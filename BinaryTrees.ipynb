{
 "cells": [
  {
   "cell_type": "markdown",
   "id": "9f3a9627-02cd-4cab-8986-cd3dce955991",
   "metadata": {
    "tags": []
   },
   "source": [
    "## Binary Trees"
   ]
  },
  {
   "cell_type": "markdown",
   "id": "baf74da0",
   "metadata": {},
   "source": [
    "**Some Youtube Videos**<br>\n",
    "* [Binary Tree 1. Constructing a tree (algorithm and pseudocode)](https://youtu.be/m4T__2QnoyQ)\n",
    "* [Graig'n'Daive - Introduction to Binary Trees](https://youtu.be/0amXaMnTlhI)\n",
    "* [Graig'n'Daive - Binary Trees - traverse, add and remove](https://youtu.be/0amXaMnTlhI)   *NB. You do not need to know how to delete items*"
   ]
  },
  {
   "cell_type": "markdown",
   "id": "ded226f0",
   "metadata": {},
   "source": []
  },
  {
   "cell_type": "markdown",
   "id": "36fe8850",
   "metadata": {},
   "source": []
  },
  {
   "cell_type": "code",
   "execution_count": null,
   "id": "9767c15a-c041-47f8-99f3-002bb7908fe3",
   "metadata": {},
   "outputs": [],
   "source": [
    "# find an item\n",
    "# insert an item\n",
    "# Do not need to be able to delete an item\n",
    "\n",
    "class listNode:\n",
    "    def __init__(self, l):\n",
    "        self.data = \"\"\n",
    "        self.left = l\n",
    "        self.r = None\n",
    "\n",
    "def create():\n",
    "    global free, root, nullP\n",
    "    root = nullP\n",
    "    free = 0\n",
    "    tree = []\n",
    "    for j in range(listLength-1):\n",
    "        tree.append(listNode(j+1))\n",
    "    tree.append(listNode(nullP))\n",
    "    return tree\n",
    "\n",
    "def addNode(item, tree):\n",
    "    global free, root, nullP\n",
    "    if free != nullP:  #check if space left\n",
    "        new = free\n",
    "        free = tree[free].left\n",
    "        tree[new].data = item\n",
    "        tree[new].left = nullP\n",
    "        tree[new].right = nullP\n",
    "        if root == nullP:  #check insert new node at root\n",
    "            root = new\n",
    "        else:  #find insertion point\n",
    "            this = root #start at the root of tree\n",
    "            #prev = start #remember this node\n",
    "            while this != nullP : #while not a leaf node\n",
    "                prev = this #remember this node\n",
    "                if tree[this].data > item:  #follow left node\n",
    "                    turnLeft = True\n",
    "                    this = tree[this].left\n",
    "                else:\n",
    "                    turnLeft = False\n",
    "                    this = tree[this].right\n",
    "            if turnLeft == True:\n",
    "                tree[prev].left = new\n",
    "            else:\n",
    "                tree[prev].right = new\n",
    "    else:\n",
    "        print(\"no nodes can be added anymore\")\n",
    "    return  tree\n",
    "\n",
    "def find(item, tree):\n",
    "    global free, root, nullP\n",
    "    this = root\n",
    "    while this != nullP and tree[this].data != item:\n",
    "        if tree[this].data > item:\n",
    "            this = tree[this].left\n",
    "        else:\n",
    "            this = tree[this].right\n",
    "    return this\n",
    "\n",
    "\n",
    "def printTree(this, tree):\n",
    "    global free, root, nullP\n",
    "    if tree[this].left != nullP :\n",
    "        printTree(tree[this].left,tree)\n",
    "    print(tree[this].data)\n",
    "\n",
    "    if tree[this].right != nullP :\n",
    "        printTree(tree[this].right,tree)\n",
    "nullP = -1\n",
    "start = nullP\n",
    "\n",
    "names = [\"maroon\", \"black\", \"silver\", \"amber\", \"indigo\", \"red\", \"grey\", \"violet\", \"lime green\"]\n",
    "listLength = len(names)\n",
    "tree = create()\n",
    "for j in range(len(names)):\n",
    "    tree = addNode(names[j], tree)\n",
    "\n",
    "printTree(root, tree)\n",
    "\n",
    "print(find(\"black\", tree))\n"
   ]
  },
  {
   "cell_type": "code",
   "execution_count": null,
   "id": "2ae1845f-278c-474d-adf2-203a620523e7",
   "metadata": {},
   "outputs": [],
   "source": []
  }
 ],
 "metadata": {
  "kernelspec": {
   "display_name": "Python 3 (ipykernel)",
   "language": "python",
   "name": "python3"
  },
  "language_info": {
   "codemirror_mode": {
    "name": "ipython",
    "version": 3
   },
   "file_extension": ".py",
   "mimetype": "text/x-python",
   "name": "python",
   "nbconvert_exporter": "python",
   "pygments_lexer": "ipython3",
   "version": "3.10.4"
  }
 },
 "nbformat": 4,
 "nbformat_minor": 5
}
